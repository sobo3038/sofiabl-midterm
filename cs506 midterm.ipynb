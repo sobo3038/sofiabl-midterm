{
 "cells": [
  {
   "cell_type": "markdown",
   "metadata": {},
   "source": [
    "# Libraries/Imports"
   ]
  },
  {
   "cell_type": "code",
   "execution_count": 1,
   "metadata": {},
   "outputs": [],
   "source": [
    "# Cell 1: Imports\n",
    "import pickle\n",
    "import pandas as pd\n",
    "import seaborn as sns\n",
    "from os.path import exists\n",
    "import matplotlib.pyplot as plt\n",
    "from sklearn.model_selection import train_test_split\n",
    "from sklearn.metrics import accuracy_score, confusion_matrix\n",
    "from sklearn.feature_extraction.text import TfidfVectorizer\n",
    "from sklearn.decomposition import TruncatedSVD\n",
    "from sklearn.ensemble import RandomForestClassifier\n",
    "from imblearn.over_sampling import SMOTE\n",
    "from textblob import TextBlob"
   ]
  },
  {
   "cell_type": "markdown",
   "metadata": {},
   "source": [
    "# Loading Data"
   ]
  },
  {
   "cell_type": "code",
   "execution_count": 2,
   "metadata": {},
   "outputs": [
    {
     "name": "stdout",
     "output_type": "stream",
     "text": [
      "train.csv shape is  (1697533, 9)\n",
      "test.csv shape is  (212192, 2)\n",
      "\n",
      "        Id   ProductId          UserId  HelpfulnessNumerator  \\\n",
      "0   914403  B0009W5KHM   AV6QDP8Q0ONK4                     2   \n",
      "1   354887  6303079709  A2I8RXJN80A2D2                     0   \n",
      "2  1407653  B004H0M2XC  A3FHV3RV8Z12E6                     0   \n",
      "3  1377458  B003ZJ9536  A12VLTA3ZHVPUY                     1   \n",
      "4   475323  630574453X  A13NM1PES9OXVN                     2   \n",
      "\n",
      "   HelpfulnessDenominator        Time  \\\n",
      "0                       2  1341014400   \n",
      "1                       0  1168819200   \n",
      "2                       0  1386201600   \n",
      "3                       1  1348704000   \n",
      "4                       3   970012800   \n",
      "\n",
      "                                         Summary  \\\n",
      "0                                  GOOD FUN FILM   \n",
      "1                                   Movie Review   \n",
      "2             When is it a good time to Consent?   \n",
      "3                                          TRUTH   \n",
      "4  Intelligent and bittersweet -- stays with you   \n",
      "\n",
      "                                                Text  Score  \n",
      "0  While most straight to DVD films are not worth...    5.0  \n",
      "1  I have wanted this one for sometime, also.  I ...    5.0  \n",
      "2  Actually this was a pretty darn good indie fil...    4.0  \n",
      "3  Episodes 37 to 72 of the series press on in a ...    5.0  \n",
      "4  I was really impressed with this movie, but wa...    3.0  \n",
      "\n",
      "        Id  Score\n",
      "0  1323432    NaN\n",
      "1  1137299    NaN\n",
      "2  1459366    NaN\n",
      "3   931601    NaN\n",
      "4  1311995    NaN\n",
      "\n",
      "                 Id  HelpfulnessNumerator  HelpfulnessDenominator  \\\n",
      "count  1.697533e+06          1.697533e+06            1.697533e+06   \n",
      "mean   8.487660e+05          3.569048e+00            5.301422e+00   \n",
      "std    4.900357e+05          1.727883e+01            2.024445e+01   \n",
      "min    0.000000e+00          0.000000e+00            0.000000e+00   \n",
      "25%    4.243830e+05          0.000000e+00            0.000000e+00   \n",
      "50%    8.487660e+05          1.000000e+00            1.000000e+00   \n",
      "75%    1.273149e+06          3.000000e+00            5.000000e+00   \n",
      "max    1.697532e+06          6.084000e+03            6.510000e+03   \n",
      "\n",
      "               Time         Score  \n",
      "count  1.697533e+06  1.485341e+06  \n",
      "mean   1.262422e+09  4.110517e+00  \n",
      "std    1.289277e+08  1.197651e+00  \n",
      "min    8.793792e+08  1.000000e+00  \n",
      "25%    1.164413e+09  4.000000e+00  \n",
      "50%    1.307491e+09  5.000000e+00  \n",
      "75%    1.373242e+09  5.000000e+00  \n",
      "max    1.406074e+09  5.000000e+00  \n"
     ]
    },
    {
     "data": {
      "image/png": "[encoded data removed]",
      "text/plain": [
       "<Figure size 640x480 with 1 Axes>"
      ]
     },
     "metadata": {},
     "output_type": "display_data"
    },
    {
     "name": "stdout",
     "output_type": "stream",
     "text": [
      "\n",
      "EVERYTHING IS PROPERLY SET UP! YOU ARE READY TO START\n"
     ]
    }
   ],
   "source": [
    "# Cell 2: Loading Data\n",
    "trainingSet = pd.read_csv(\"train.csv\")\n",
    "testingSet = pd.read_csv(\"test.csv\")\n",
    "\n",
    "print(\"train.csv shape is \", trainingSet.shape)\n",
    "print(\"test.csv shape is \", testingSet.shape)\n",
    "\n",
    "print()\n",
    "\n",
    "print(trainingSet.head())\n",
    "print()\n",
    "print(testingSet.head())\n",
    "\n",
    "print()\n",
    "\n",
    "print(trainingSet.describe())\n",
    "\n",
    "trainingSet['Score'].value_counts().plot(kind='bar', legend=True, alpha=.5)\n",
    "plt.show()\n",
    "\n",
    "print()\n",
    "print(\"EVERYTHING IS PROPERLY SET UP! YOU ARE READY TO START\")"
   ]
  },
  {
   "cell_type": "markdown",
   "metadata": {},
   "source": [
    "# Feature Engineering"
   ]
  },
  {
   "cell_type": "code",
   "execution_count": 3,
   "metadata": {},
   "outputs": [],
   "source": [
    "# Cell 3: Feature Engineering\n",
    "def add_features_to(df):\n",
    "   df['Helpfulness'] = df['HelpfulnessNumerator'] / df['HelpfulnessDenominator']\n",
    "   df['Helpfulness'] = df['Helpfulness'].fillna(0)\n",
    "   df['ReviewLength'] = df['Text'].fillna('').apply(len)  \n",
    "   df['Year'] = pd.to_datetime(df['Time'], unit='s').dt.year\n",
    "   df['Month'] = pd.to_datetime(df['Time'], unit='s').dt.month\n",
    "   df['DayOfWeek'] = pd.to_datetime(df['Time'], unit='s').dt.dayofweek\n",
    "   df['MeanRatingForMovie'] = df.groupby('ProductId')['Score'].transform('mean')\n",
    "   df['SummarySentiment'] = df['Summary'].fillna('').apply(lambda x: TextBlob(x).sentiment.polarity)\n",
    "   df['TextSentiment'] = df['Text'].fillna('').apply(lambda x: TextBlob(x).sentiment.polarity) \n",
    "\n",
    "   return df\n",
    "\n",
    "\n",
    "if exists('X_train1.csv'):\n",
    "   X_train = pd.read_csv(\"X_train1.csv\")\n",
    "if exists('X_submission1.csv'):\n",
    "   X_submission = pd.read_csv(\"X_submission1.csv\")\n",
    "else:\n",
    "   train = add_features_to(trainingSet)\n",
    "   X_submission = pd.merge(train, testingSet, left_on='Id', right_on='Id')\n",
    "   X_submission = X_submission.drop(columns=['Score_x'])\n",
    "   X_submission = X_submission.rename(columns={'Score_y': 'Score'})\n",
    "   X_train = train[train['Score'].notnull()]\n",
    "   X_submission.to_csv(\"X_submission1.csv\", index=False)\n",
    "   X_train.to_csv(\"X_train1.csv\", index=False)"
   ]
  },
  {
   "cell_type": "markdown",
   "metadata": {},
   "source": [
    "# TF-IDF and LSA Feature Extraction"
   ]
  },
  {
   "cell_type": "code",
   "execution_count": 4,
   "metadata": {},
   "outputs": [],
   "source": [
    "# Cell 4: TF-IDF and LSA Feature Extraction (BEFORE splitting into train/test sets)\n",
    "\n",
    "tfidf = TfidfVectorizer(max_features=15000)\n",
    "\n",
    "tfidf_matrix_train = tfidf.fit_transform(X_train['Text'].fillna(''))\n",
    "\n",
    "tfidf_matrix_submission = tfidf.transform(X_submission['Text'].fillna(''))\n",
    "\n",
    "lsa = TruncatedSVD(n_components=100, random_state=42)\n",
    "\n",
    "lsa_features_train = lsa.fit_transform(tfidf_matrix_train)\n",
    "lsa_features_submission = lsa.transform(tfidf_matrix_submission)\n",
    "\n",
    "lsa_train_df = pd.DataFrame(lsa_features_train, columns=[f'LSA_{i}' for i in range(lsa_features_train.shape[1])], index=X_train.index)\n",
    "lsa_submission_df = pd.DataFrame(lsa_features_submission, columns=[f'LSA_{i}' for i in range(lsa_features_submission.shape[1])], index=X_submission.index)\n",
    "\n",
    "X_train = pd.concat([X_train, lsa_train_df], axis=1)\n",
    "X_submission = pd.concat([X_submission, lsa_submission_df], axis=1)\n"
   ]
  },
  {
   "cell_type": "markdown",
   "metadata": {},
   "source": [
    "# Train/Test Split"
   ]
  },
  {
   "cell_type": "code",
   "execution_count": 5,
   "metadata": {},
   "outputs": [],
   "source": [
    "# Cell 5: Train/Test Split\n",
    "X_train, X_test, Y_train, Y_test = train_test_split(\n",
    "   X_train.drop(columns=['Score']),\n",
    "   X_train['Score'],\n",
    "   test_size=1/4.0,\n",
    "   random_state=0\n",
    ")"
   ]
  },
  {
   "cell_type": "markdown",
   "metadata": {},
   "source": [
    "# Selecting Features for Model"
   ]
  },
  {
   "cell_type": "code",
   "execution_count": 6,
   "metadata": {},
   "outputs": [],
   "source": [
    "# Cell 6: Enhanced Feature Selection for Model\n",
    "from sklearn.preprocessing import StandardScaler\n",
    "\n",
    "base_features = ['HelpfulnessNumerator', 'HelpfulnessDenominator', 'Time', 'Helpfulness', 'ReviewLength', 'MeanRatingForMovie', 'SummarySentiment', 'TextSentiment']\n",
    "lsa_features = [f'LSA_{i}' for i in range(100)]\n",
    "selected_features = base_features + lsa_features\n",
    "\n",
    "X_train['contains_excellent'] = X_train['Text'].str.contains('excellent', case=False, na=False).astype(int)\n",
    "X_train['contains_terrible'] = X_train['Text'].str.contains('terrible', case=False, na=False).astype(int)\n",
    "X_test['contains_excellent'] = X_test['Text'].str.contains('excellent', case=False, na=False).astype(int)\n",
    "X_test['contains_terrible'] = X_test['Text'].str.contains('terrible', case=False, na=False).astype(int)\n",
    "X_submission['contains_excellent'] = X_submission['Text'].str.contains('excellent', case=False, na=False).astype(int)\n",
    "X_submission['contains_terrible'] = X_submission['Text'].str.contains('terrible', case=False, na=False).astype(int)\n",
    "\n",
    "selected_features += ['contains_excellent', 'contains_terrible']\n",
    "\n",
    "scaler = StandardScaler()\n",
    "X_train_scaled = X_train[selected_features].copy()\n",
    "X_test_scaled = X_test[selected_features].copy()\n",
    "X_submission_scaled = X_submission[selected_features].copy()\n",
    "\n",
    "\n",
    "X_train_scaled[base_features] = scaler.fit_transform(X_train_scaled[base_features])\n",
    "X_test_scaled[base_features] = scaler.transform(X_test_scaled[base_features])\n",
    "X_submission_scaled[base_features] = scaler.transform(X_submission_scaled[base_features])\n",
    "\n",
    "X_train_select = X_train_scaled\n",
    "X_test_select = X_test_scaled\n",
    "X_submission_select = X_submission_scaled\n",
    "\n",
    "\n"
   ]
  },
  {
   "cell_type": "markdown",
   "metadata": {},
   "source": [
    "# Adjusted SMOTE"
   ]
  },
  {
   "cell_type": "code",
   "execution_count": 7,
   "metadata": {},
   "outputs": [
    {
     "name": "stdout",
     "output_type": "stream",
     "text": [
      "Score\n",
      "5.0    595120\n",
      "4.0    251418\n",
      "3.0    131911\n",
      "2.0     80726\n",
      "1.0     80726\n",
      "Name: count, dtype: int64\n"
     ]
    }
   ],
   "source": [
    "# Cell 7: Further Refined Borderline SMOTE Strategy\n",
    "from imblearn.over_sampling import BorderlineSMOTE\n",
    "\n",
    "class_counts = Y_train.value_counts()\n",
    "min_class_count = class_counts.min()\n",
    "\n",
    "sampling_strategy = {class_label: max(class_counts[class_label], int(min_class_count * 1.2)) for class_label in class_counts.index}\n",
    "\n",
    "oversample = BorderlineSMOTE(sampling_strategy=sampling_strategy, random_state=42, k_neighbors=3)\n",
    "X_train_balanced, Y_train_balanced = oversample.fit_resample(X_train_select, Y_train)\n",
    "\n",
    "print(Y_train_balanced.value_counts())\n",
    "\n"
   ]
  },
  {
   "cell_type": "markdown",
   "metadata": {},
   "source": [
    "# Model Training"
   ]
  },
  {
   "cell_type": "code",
   "execution_count": 8,
   "metadata": {},
   "outputs": [],
   "source": [
    "# Cell 8: Model Training with XGBoost and Class Weights\n",
    "from xgboost import XGBClassifier \n",
    "\n",
    "class_weights = {1: 1, 2: 1.001, 3: 1.12, 4: 1.215, 5: 1.07} \n",
    "sample_weights = Y_train_balanced.map(class_weights)\n",
    "\n",
    "Y_train_balanced_shifted = Y_train_balanced.astype(int) - 1\n",
    "\n",
    "xgb_model = XGBClassifier(\n",
    "   n_estimators=200,  \n",
    "   gamma=1,           \n",
    "   n_jobs=-1,         \n",
    "   random_state=42\n",
    ")\n",
    "\n",
    "xgb_model.fit(X_train_balanced, Y_train_balanced_shifted, sample_weight=sample_weights)\n",
    "\n",
    "Y_test_predictions = xgb_model.predict(X_test_select) + 1"
   ]
  },
  {
   "cell_type": "markdown",
   "metadata": {},
   "source": [
    "# Model Evaluation"
   ]
  },
  {
   "cell_type": "code",
   "execution_count": 24,
   "metadata": {},
   "outputs": [
    {
     "name": "stdout",
     "output_type": "stream",
     "text": [
      "Accuracy on testing set =  0.642418187302066\n"
     ]
    },
    {
     "data": {
      "image/png": "[encoded data removed]",
      "text/plain": [
       "<Figure size 640x480 with 2 Axes>"
      ]
     },
     "metadata": {},
     "output_type": "display_data"
    }
   ],
   "source": [
    "# Cell 9: Model Evaluation\n",
    "print(\"Accuracy on testing set = \", accuracy_score(Y_test, Y_test_predictions))\n",
    "\n",
    "cm = confusion_matrix(Y_test, Y_test_predictions, normalize='true')\n",
    "sns.heatmap(cm, annot=True)\n",
    "plt.title('Confusion matrix of the classifier')\n",
    "plt.xlabel('Predicted')\n",
    "plt.ylabel('True')\n",
    "plt.show()\n"
   ]
  },
  {
   "cell_type": "code",
   "execution_count": 10,
   "metadata": {},
   "outputs": [],
   "source": [
    "# Create the submission file\n",
    "X_submission['Score'] = xgb_model.predict(X_submission_select) + 1\n",
    "submission = X_submission[['Id', 'Score']]\n",
    "submission.to_csv(\"submission.csv\", index=False)"
   ]
  }
 ],
 "metadata": {
  "kernelspec": {
   "display_name": "jupyter-env",
   "language": "python",
   "name": "jupyter-env"
  },
  "language_info": {
   "codemirror_mode": {
    "name": "ipython",
    "version": 3
   },
   "file_extension": ".py",
   "mimetype": "text/x-python",
   "name": "python",
   "nbconvert_exporter": "python",
   "pygments_lexer": "ipython3",
   "version": "3.13.0"
  }
 },
 "nbformat": 4,
 "nbformat_minor": 2
}
